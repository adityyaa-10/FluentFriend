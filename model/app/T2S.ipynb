{
 "cells": [
  {
   "cell_type": "code",
   "execution_count": 4,
   "metadata": {},
   "outputs": [],
   "source": [
    "import gtts  \n",
    "from playsound import playsound  \n",
    "import pyttsx3  "
   ]
  },
  {
   "cell_type": "code",
   "execution_count": 2,
   "metadata": {},
   "outputs": [],
   "source": [
    "accents = {'Australia':'com.au','United Kingdom':'com.uk','United States':'us','Canada':'ca','India':'co.in','Ireland':'ie','South Africa':'co.za'}"
   ]
  },
  {
   "cell_type": "code",
   "execution_count": 3,
   "metadata": {},
   "outputs": [],
   "source": [
    "import os\n",
    "onlyfiles = [f for f in os.listdir('/home/devyanshi/FluentFriend/model/dataset/output')]"
   ]
  },
  {
   "cell_type": "code",
   "execution_count": 5,
   "metadata": {},
   "outputs": [],
   "source": [
    "for o in onlyfiles:\n",
    "    oo = o.replace(\"_out.txt\",\"\")\n",
    "    f = open('/home/devyanshi/FluentFriend/model/dataset/output/'+o,'r')\n",
    "    txt = f.read()\n",
    "    tsf = gtts.gTTS(txt, lang='en', tld=accents['South Africa'])\n",
    "\n",
    "    tsf.save('/home/devyanshi/FluentFriend/model/database/db_output/'+oo+'_out.mp3')"
   ]
  }
 ],
 "metadata": {
  "kernelspec": {
   "display_name": "Python 3.10.5 64-bit",
   "language": "python",
   "name": "python3"
  },
  "language_info": {
   "codemirror_mode": {
    "name": "ipython",
    "version": 3
   },
   "file_extension": ".py",
   "mimetype": "text/x-python",
   "name": "python",
   "nbconvert_exporter": "python",
   "pygments_lexer": "ipython3",
   "version": "3.10.12"
  },
  "orig_nbformat": 4,
  "vscode": {
   "interpreter": {
    "hash": "aee8b7b246df8f9039afb4144a1f6fd8d2ca17a180786b69acc140d282b71a49"
   }
  }
 },
 "nbformat": 4,
 "nbformat_minor": 2
}
