{
 "cells": [
  {
   "cell_type": "code",
   "execution_count": 1,
   "metadata": {},
   "outputs": [],
   "source": [
    "import openai"
   ]
  },
  {
   "cell_type": "code",
   "execution_count": 2,
   "metadata": {},
   "outputs": [],
   "source": [
    "openai.api_key = \"\""
   ]
  },
  {
   "cell_type": "code",
   "execution_count": 3,
   "metadata": {},
   "outputs": [],
   "source": [
    "def chat(mess):\n",
    "    model_engine = \"gpt-3.5-turbo\"\n",
    "    response = openai.ChatCompletion.create(\n",
    "        model=model_engine, \n",
    "        messages=[{\"role\": \"user\", \"content\": mess}], \n",
    "        max_tokens = 200, \n",
    "        stop=None, \n",
    "        temperature=0.5 \n",
    "    )\n",
    "    message = response.choices[0].message.content\n",
    "    return message.strip()"
   ]
  },
  {
   "cell_type": "code",
   "execution_count": 4,
   "metadata": {},
   "outputs": [],
   "source": [
    "def user_query(prompt):\n",
    "    user_prompt = (f\"{prompt}\")\n",
    "    result = chat(user_prompt)\n",
    "    return result"
   ]
  },
  {
   "cell_type": "code",
   "execution_count": 5,
   "metadata": {},
   "outputs": [],
   "source": [
    "import os\n",
    "onlyfiles = [f for f in os.listdir('/Users/coding/Documents/vs/FluentFriend/model/dataset/input')]"
   ]
  },
  {
   "cell_type": "code",
   "execution_count": 7,
   "metadata": {},
   "outputs": [],
   "source": [
    "for c in onlyfiles:\n",
    "    cc = c.replace(\".txt\",\"\")\n",
    "    text = open('/Users/coding/Documents/vs/FluentFriend/model/dataset/input/'+c)\n",
    "    text = text.readlines()\n",
    "    pf = user_query(text)\n",
    "\n",
    "    f = open('/Users/coding/Documents/vs/FluentFriend/model/dataset/output/'+cc+'_out.txt', \"x\")\n",
    "    f = open('/Users/coding/Documents/vs/FluentFriend/model/dataset/output/'+cc+'_out.txt', \"w\")\n",
    "    f.writelines(pf)\n",
    "    f.close()"
   ]
  }
 ],
 "metadata": {
  "kernelspec": {
   "display_name": "Python 3.10.5 64-bit",
   "language": "python",
   "name": "python3"
  },
  "language_info": {
   "codemirror_mode": {
    "name": "ipython",
    "version": 3
   },
   "file_extension": ".py",
   "mimetype": "text/x-python",
   "name": "python",
   "nbconvert_exporter": "python",
   "pygments_lexer": "ipython3",
   "version": "3.10.5"
  },
  "orig_nbformat": 4,
  "vscode": {
   "interpreter": {
    "hash": "aee8b7b246df8f9039afb4144a1f6fd8d2ca17a180786b69acc140d282b71a49"
   }
  }
 },
 "nbformat": 4,
 "nbformat_minor": 2
}
