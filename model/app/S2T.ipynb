{
 "cells": [
  {
   "cell_type": "code",
   "execution_count": 9,
   "metadata": {},
   "outputs": [],
   "source": [
    "import openai"
   ]
  },
  {
   "cell_type": "code",
   "execution_count": 10,
   "metadata": {},
   "outputs": [],
   "source": [
    "from dotenv import load_dotenv\n",
    "import os\n",
    "\n",
    "# Load environment variables from .env\n",
    "load_dotenv()\n",
    "\n",
    "# Access the API key\n",
    "api_key = os.getenv(\"API_KEY\")"
   ]
  },
  {
   "cell_type": "code",
   "execution_count": 11,
   "metadata": {},
   "outputs": [],
   "source": [
    "def S2T(audio):\n",
    "    with open(audio, \"rb\") as audio_file:\n",
    "        transcript = openai.Audio.transcribe(\n",
    "            file = audio_file,\n",
    "            model = \"whisper-1\",\n",
    "            response_format=\"text\",\n",
    "            language=\"en\"\n",
    "        )\n",
    "    return transcript"
   ]
  },
  {
   "cell_type": "code",
   "execution_count": 12,
   "metadata": {},
   "outputs": [],
   "source": [
    "import os\n",
    "onlyfiles = [f for f in os.listdir('/home/devyanshi/FluentFriend/model/database/db_input')]"
   ]
  },
  {
   "cell_type": "code",
   "execution_count": 13,
   "metadata": {},
   "outputs": [
    {
     "ename": "FileExistsError",
     "evalue": "[Errno 17] File exists: '/home/devyanshi/FluentFriend/model/dataset/input/a1.txt'",
     "output_type": "error",
     "traceback": [
      "\u001b[0;31m---------------------------------------------------------------------------\u001b[0m",
      "\u001b[0;31mFileExistsError\u001b[0m                           Traceback (most recent call last)",
      "\u001b[1;32m/home/devyanshi/FluentFriend/model/app/S2T.ipynb Cell 5\u001b[0m line \u001b[0;36m5\n\u001b[1;32m      <a href='vscode-notebook-cell:/home/devyanshi/FluentFriend/model/app/S2T.ipynb#W4sZmlsZQ%3D%3D?line=1'>2</a>\u001b[0m aa \u001b[39m=\u001b[39m a\u001b[39m.\u001b[39mreplace(\u001b[39m\"\u001b[39m\u001b[39m.wav\u001b[39m\u001b[39m\"\u001b[39m,\u001b[39m\"\u001b[39m\u001b[39m\"\u001b[39m)\n\u001b[1;32m      <a href='vscode-notebook-cell:/home/devyanshi/FluentFriend/model/app/S2T.ipynb#W4sZmlsZQ%3D%3D?line=2'>3</a>\u001b[0m stf \u001b[39m=\u001b[39m S2T(\u001b[39m'\u001b[39m\u001b[39m/home/devyanshi/FluentFriend/model/database/db_input/\u001b[39m\u001b[39m'\u001b[39m\u001b[39m+\u001b[39ma)\n\u001b[0;32m----> <a href='vscode-notebook-cell:/home/devyanshi/FluentFriend/model/app/S2T.ipynb#W4sZmlsZQ%3D%3D?line=4'>5</a>\u001b[0m f \u001b[39m=\u001b[39m \u001b[39mopen\u001b[39;49m(\u001b[39m'\u001b[39;49m\u001b[39m/home/devyanshi/FluentFriend/model/dataset/input/\u001b[39;49m\u001b[39m'\u001b[39;49m\u001b[39m+\u001b[39;49maa\u001b[39m+\u001b[39;49m\u001b[39m'\u001b[39;49m\u001b[39m.txt\u001b[39;49m\u001b[39m'\u001b[39;49m, \u001b[39m\"\u001b[39;49m\u001b[39mx\u001b[39;49m\u001b[39m\"\u001b[39;49m)\n\u001b[1;32m      <a href='vscode-notebook-cell:/home/devyanshi/FluentFriend/model/app/S2T.ipynb#W4sZmlsZQ%3D%3D?line=5'>6</a>\u001b[0m f \u001b[39m=\u001b[39m \u001b[39mopen\u001b[39m(\u001b[39m'\u001b[39m\u001b[39m/home/devyanshi/FluentFriend/model/dataset/input/\u001b[39m\u001b[39m'\u001b[39m\u001b[39m+\u001b[39maa\u001b[39m+\u001b[39m\u001b[39m'\u001b[39m\u001b[39m.txt\u001b[39m\u001b[39m'\u001b[39m, \u001b[39m\"\u001b[39m\u001b[39mw\u001b[39m\u001b[39m\"\u001b[39m)\n\u001b[1;32m      <a href='vscode-notebook-cell:/home/devyanshi/FluentFriend/model/app/S2T.ipynb#W4sZmlsZQ%3D%3D?line=6'>7</a>\u001b[0m f\u001b[39m.\u001b[39mwritelines(stf)\n",
      "File \u001b[0;32m~/.local/lib/python3.10/site-packages/IPython/core/interactiveshell.py:310\u001b[0m, in \u001b[0;36m_modified_open\u001b[0;34m(file, *args, **kwargs)\u001b[0m\n\u001b[1;32m    303\u001b[0m \u001b[39mif\u001b[39;00m file \u001b[39min\u001b[39;00m {\u001b[39m0\u001b[39m, \u001b[39m1\u001b[39m, \u001b[39m2\u001b[39m}:\n\u001b[1;32m    304\u001b[0m     \u001b[39mraise\u001b[39;00m \u001b[39mValueError\u001b[39;00m(\n\u001b[1;32m    305\u001b[0m         \u001b[39mf\u001b[39m\u001b[39m\"\u001b[39m\u001b[39mIPython won\u001b[39m\u001b[39m'\u001b[39m\u001b[39mt let you open fd=\u001b[39m\u001b[39m{\u001b[39;00mfile\u001b[39m}\u001b[39;00m\u001b[39m by default \u001b[39m\u001b[39m\"\u001b[39m\n\u001b[1;32m    306\u001b[0m         \u001b[39m\"\u001b[39m\u001b[39mas it is likely to crash IPython. If you know what you are doing, \u001b[39m\u001b[39m\"\u001b[39m\n\u001b[1;32m    307\u001b[0m         \u001b[39m\"\u001b[39m\u001b[39myou can use builtins\u001b[39m\u001b[39m'\u001b[39m\u001b[39m open.\u001b[39m\u001b[39m\"\u001b[39m\n\u001b[1;32m    308\u001b[0m     )\n\u001b[0;32m--> 310\u001b[0m \u001b[39mreturn\u001b[39;00m io_open(file, \u001b[39m*\u001b[39;49margs, \u001b[39m*\u001b[39;49m\u001b[39m*\u001b[39;49mkwargs)\n",
      "\u001b[0;31mFileExistsError\u001b[0m: [Errno 17] File exists: '/home/devyanshi/FluentFriend/model/dataset/input/a1.txt'"
     ]
    }
   ],
   "source": [
    "for a in onlyfiles:\n",
    "    aa = a.replace(\".wav\",\"\")\n",
    "    stf = S2T('/home/devyanshi/FluentFriend/model/database/db_input/'+a)\n",
    "\n",
    "    f = open('/home/devyanshi/FluentFriend/model/dataset/input/'+aa+'.txt', \"x\")\n",
    "    f = open('/home/devyanshi/FluentFriend/model/dataset/input/'+aa+'.txt', \"w\")\n",
    "    f.writelines(stf)\n",
    "    f.close()"
   ]
  }
 ],
 "metadata": {
  "kernelspec": {
   "display_name": "Python 3.10.5 64-bit",
   "language": "python",
   "name": "python3"
  },
  "language_info": {
   "codemirror_mode": {
    "name": "ipython",
    "version": 3
   },
   "file_extension": ".py",
   "mimetype": "text/x-python",
   "name": "python",
   "nbconvert_exporter": "python",
   "pygments_lexer": "ipython3",
   "version": "3.10.12"
  },
  "orig_nbformat": 4,
  "vscode": {
   "interpreter": {
    "hash": "aee8b7b246df8f9039afb4144a1f6fd8d2ca17a180786b69acc140d282b71a49"
   }
  }
 },
 "nbformat": 4,
 "nbformat_minor": 2
}
