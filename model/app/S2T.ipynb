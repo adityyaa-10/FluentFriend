{
 "cells": [
  {
   "cell_type": "code",
   "execution_count": 1,
   "metadata": {},
   "outputs": [],
   "source": [
    "import openai"
   ]
  },
  {
   "cell_type": "code",
   "execution_count": 2,
   "metadata": {},
   "outputs": [],
   "source": [
    "openai.api_key = \"\""
   ]
  },
  {
   "cell_type": "code",
   "execution_count": 3,
   "metadata": {},
   "outputs": [],
   "source": [
    "def S2T(audio):\n",
    "    with open(audio, \"rb\") as audio_file:\n",
    "        transcript = openai.Audio.transcribe(\n",
    "            file = audio_file,\n",
    "            model = \"whisper-1\",\n",
    "            response_format=\"text\",\n",
    "            language=\"en\"\n",
    "        )\n",
    "    return transcript"
   ]
  },
  {
   "cell_type": "code",
   "execution_count": 4,
   "metadata": {},
   "outputs": [],
   "source": [
    "import os\n",
    "onlyfiles = [f for f in os.listdir('/Users/coding/Documents/vs/FluentFriend/model/database/db_input')]"
   ]
  },
  {
   "cell_type": "code",
   "execution_count": 6,
   "metadata": {},
   "outputs": [
    {
     "ename": "FileExistsError",
     "evalue": "[Errno 17] File exists: '/Users/coding/Documents/vs/FluentFriend/model/dataset/input/a1.txt'",
     "output_type": "error",
     "traceback": [
      "\u001b[0;31m---------------------------------------------------------------------------\u001b[0m",
      "\u001b[0;31mFileExistsError\u001b[0m                           Traceback (most recent call last)",
      "\u001b[1;32m/Users/coding/Documents/vs/FluentFriend/model/app/S2T.ipynb Cell 5'\u001b[0m in \u001b[0;36m<cell line: 1>\u001b[0;34m()\u001b[0m\n\u001b[1;32m      <a href='vscode-notebook-cell:/Users/coding/Documents/vs/FluentFriend/model/app/S2T.ipynb#ch0000004?line=1'>2</a>\u001b[0m aa \u001b[39m=\u001b[39m a\u001b[39m.\u001b[39mreplace(\u001b[39m\"\u001b[39m\u001b[39m.wav\u001b[39m\u001b[39m\"\u001b[39m,\u001b[39m\"\u001b[39m\u001b[39m\"\u001b[39m)\n\u001b[1;32m      <a href='vscode-notebook-cell:/Users/coding/Documents/vs/FluentFriend/model/app/S2T.ipynb#ch0000004?line=2'>3</a>\u001b[0m stf \u001b[39m=\u001b[39m S2T(\u001b[39m'\u001b[39m\u001b[39m/Users/coding/Documents/vs/FluentFriend/model/database/db_input/\u001b[39m\u001b[39m'\u001b[39m\u001b[39m+\u001b[39ma)\n\u001b[0;32m----> <a href='vscode-notebook-cell:/Users/coding/Documents/vs/FluentFriend/model/app/S2T.ipynb#ch0000004?line=4'>5</a>\u001b[0m f \u001b[39m=\u001b[39m \u001b[39mopen\u001b[39;49m(\u001b[39m'\u001b[39;49m\u001b[39m/Users/coding/Documents/vs/FluentFriend/model/dataset/input/\u001b[39;49m\u001b[39m'\u001b[39;49m\u001b[39m+\u001b[39;49maa\u001b[39m+\u001b[39;49m\u001b[39m'\u001b[39;49m\u001b[39m.txt\u001b[39;49m\u001b[39m'\u001b[39;49m, \u001b[39m\"\u001b[39;49m\u001b[39mx\u001b[39;49m\u001b[39m\"\u001b[39;49m)\n\u001b[1;32m      <a href='vscode-notebook-cell:/Users/coding/Documents/vs/FluentFriend/model/app/S2T.ipynb#ch0000004?line=5'>6</a>\u001b[0m f \u001b[39m=\u001b[39m \u001b[39mopen\u001b[39m(\u001b[39m'\u001b[39m\u001b[39m/Users/coding/Documents/vs/FluentFriend/model/dataset/input/\u001b[39m\u001b[39m'\u001b[39m\u001b[39m+\u001b[39maa\u001b[39m+\u001b[39m\u001b[39m'\u001b[39m\u001b[39m.txt\u001b[39m\u001b[39m'\u001b[39m, \u001b[39m\"\u001b[39m\u001b[39mw\u001b[39m\u001b[39m\"\u001b[39m)\n\u001b[1;32m      <a href='vscode-notebook-cell:/Users/coding/Documents/vs/FluentFriend/model/app/S2T.ipynb#ch0000004?line=6'>7</a>\u001b[0m f\u001b[39m.\u001b[39mwritelines(stf)\n",
      "\u001b[0;31mFileExistsError\u001b[0m: [Errno 17] File exists: '/Users/coding/Documents/vs/FluentFriend/model/dataset/input/a1.txt'"
     ]
    }
   ],
   "source": [
    "for a in onlyfiles:\n",
    "    aa = a.replace(\".wav\",\"\")\n",
    "    stf = S2T('/Users/coding/Documents/vs/FluentFriend/model/database/db_input/'+a)\n",
    "\n",
    "    f = open('/Users/coding/Documents/vs/FluentFriend/model/dataset/input/'+aa+'.txt', \"x\")\n",
    "    f = open('/Users/coding/Documents/vs/FluentFriend/model/dataset/input/'+aa+'.txt', \"w\")\n",
    "    f.writelines(stf)\n",
    "    f.close()"
   ]
  }
 ],
 "metadata": {
  "kernelspec": {
   "display_name": "Python 3.10.5 64-bit",
   "language": "python",
   "name": "python3"
  },
  "language_info": {
   "codemirror_mode": {
    "name": "ipython",
    "version": 3
   },
   "file_extension": ".py",
   "mimetype": "text/x-python",
   "name": "python",
   "nbconvert_exporter": "python",
   "pygments_lexer": "ipython3",
   "version": "3.10.5"
  },
  "orig_nbformat": 4,
  "vscode": {
   "interpreter": {
    "hash": "aee8b7b246df8f9039afb4144a1f6fd8d2ca17a180786b69acc140d282b71a49"
   }
  }
 },
 "nbformat": 4,
 "nbformat_minor": 2
}
